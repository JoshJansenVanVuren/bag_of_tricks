{
 "cells": [
  {
   "cell_type": "markdown",
   "metadata": {},
   "source": [
    "# Bag of Tricks\n",
    "This notebook serves to illustrate and explain various interesting CS tricks"
   ]
  },
  {
   "cell_type": "markdown",
   "metadata": {},
   "source": [
    "## The Boring Imports"
   ]
  },
  {
   "cell_type": "code",
   "execution_count": 1,
   "metadata": {},
   "outputs": [],
   "source": [
    "from bag_of_tricks import BagOfTricks\n",
    "import random\n",
    "import time"
   ]
  },
  {
   "cell_type": "markdown",
   "metadata": {},
   "source": [
    "## Maximum Sum Sub-Array\n",
    "Wow. so original.\n",
    "\n",
    "This problem (or Kadane's Algorithm) seeks to find the largest sum of any contigous sub-array in the given array.\n",
    "\n",
    "See: https://en.wikipedia.org/wiki/Maximum_subarray_problem"
   ]
  },
  {
   "cell_type": "code",
   "execution_count": 2,
   "metadata": {},
   "outputs": [],
   "source": [
    "def kadane_max_subarray(arr: int) -> int:\n",
    "    \"\"\"\n",
    "    Parameters\n",
    "    ----------\n",
    "    arr : str\n",
    "        The array to search through\n",
    "\n",
    "    Returns\n",
    "    -------\n",
    "    best_so_far : int\n",
    "        Largest sum of any sub array\n",
    "    \"\"\"\n",
    "    \n",
    "    best_so_far = 0\n",
    "    current = 0\n",
    "    for i in arr:\n",
    "        current = max(0,current + i)\n",
    "        best_so_far = max(best_so_far,current)\n",
    "        \n",
    "    return best_so_far"
   ]
  },
  {
   "cell_type": "markdown",
   "metadata": {},
   "source": [
    "### Usage\n",
    "We find the largest sum over array `arr=[-2,-4,5,-1,2]`\n",
    "\n",
    "Which is `6=5+(-1)+2`"
   ]
  },
  {
   "cell_type": "code",
   "execution_count": 3,
   "metadata": {},
   "outputs": [
    {
     "name": "stdout",
     "output_type": "stream",
     "text": [
      "6\n"
     ]
    }
   ],
   "source": [
    "arr = [-2,-4,5,-1,2]\n",
    "print(kadane_max_subarray(arr))"
   ]
  },
  {
   "cell_type": "markdown",
   "metadata": {},
   "source": [
    "### From the Class"
   ]
  },
  {
   "cell_type": "code",
   "execution_count": 4,
   "metadata": {},
   "outputs": [
    {
     "name": "stdout",
     "output_type": "stream",
     "text": [
      "6\n"
     ]
    }
   ],
   "source": [
    "arr = [-2,-4,5,-1,2]\n",
    "print(BagOfTricks.kadane_max_subarray(arr))"
   ]
  },
  {
   "cell_type": "markdown",
   "metadata": {},
   "source": [
    "## Bubble Sort\n",
    "Can you even believe it. The most difficult.\n",
    "\n",
    "This make take some time to run over the iterations, my laptop was about 0.1217s per sort, so about 2 min in total.\n",
    "\n",
    "Now imagine how bad this sort is over 1,000,000 items"
   ]
  },
  {
   "cell_type": "code",
   "execution_count": 5,
   "metadata": {},
   "outputs": [
    {
     "name": "stdout",
     "output_type": "stream",
     "text": [
      "Slice of unsorted array:  [13, 14, 14, 15, 15, 15, 17, 18, 19, 19, 21, 22, 22, 22, 24, 24, 24, 26, 28, 30, 30, 30, 30, 31, 32, 32, 33, 33, 35, 35, 36, 36, 37, 41, 42, 45, 49, 50, 50, 51, 51, 52, 53, 55, 57, 57, 57, 58, 58, 58, 59, 59, 65, 65, 65, 67, 68, 68, 70, 71, 72, 73, 76, 78, 79, 79, 80, 81, 82, 83, 84, 85, 86, 88, 88, 90, 91, 94, 94, 95, 95, 95, 96, 97, 100, 100, 100, 101, 102, 103]\n",
      "Slice of sorted array:  [13, 14, 14, 15, 15, 15, 17, 18, 19, 19, 21, 22, 22, 22, 24, 24, 24, 26, 28, 30, 30, 30, 30, 31, 32, 32, 33, 33, 35, 35, 36, 36, 37, 41, 42, 45, 49, 50, 50, 51, 51, 52, 53, 55, 57, 57, 57, 58, 58, 58, 59, 59, 65, 65, 65, 67, 68, 68, 70, 71, 72, 73, 76, 78, 79, 79, 80, 81, 82, 83, 84, 85, 86, 88, 88, 90, 91, 94, 94, 95, 95, 95, 96, 97, 100, 100, 100, 101, 102, 103]\n",
      "--- 0.12301200246810913 seconds ---\n"
     ]
    }
   ],
   "source": [
    "arr_len = 1000\n",
    "avg_time = 0\n",
    "\n",
    "# repeat sorting a random array a thousand times\n",
    "cum_time = 0.0\n",
    "for j in range(1000):\n",
    "    # create random array\n",
    "    random_arr = []\n",
    "    for i in range(arr_len):\n",
    "        random_arr.append(random.randint(1,arr_len))\n",
    "        \n",
    "    start_time = time.time() # time\n",
    "    sorted_arr = BagOfTricks.bubble_sort(random_arr) # sort\n",
    "    cum_time += time.time() - start_time # time\n",
    "    \n",
    "avg_time = cum_time/1000\n",
    "    \n",
    "print(\"Slice of unsorted array: \", random_arr[10:100])\n",
    "print(\"Slice of sorted array: \", sorted_arr[10:100])\n",
    "print(\"--- %s seconds ---\" % (avg_time))"
   ]
  },
  {
   "cell_type": "markdown",
   "metadata": {},
   "source": [
    "## Quick Sort\n",
    "\n",
    "This one is slighty more interesting because not everyone knows how it works. An interesting video by Computerphile explains this https://youtu.be/XE4VP_8Y0BU.\n",
    "\n",
    "Basically we split the array over a value and then restack in an ordered manner.\n",
    "\n",
    "This is much much faster, an average of 0.0023s on my laptop, totalling around 2.294s"
   ]
  },
  {
   "cell_type": "code",
   "execution_count": 6,
   "metadata": {},
   "outputs": [
    {
     "name": "stdout",
     "output_type": "stream",
     "text": [
      "Slice of unsorted array:  999 [379, 247, 283, 244, 511, 463, 472, 512, 119, 279, 423, 34, 68, 407, 849, 373, 193, 510, 472, 53, 86, 30, 341, 569, 803, 603, 749, 738, 243, 509, 602, 637, 656, 84, 607, 543, 887, 346, 675, 980, 261, 876, 175, 836, 753, 876, 605, 996, 27, 593, 812, 688, 426, 318, 257, 221, 427, 97, 185, 43, 93, 398, 276, 941, 802, 891, 638, 240, 656, 718, 349, 918, 867, 246, 80, 337, 963, 555, 59, 655, 261, 984, 401, 384, 106, 992, 447, 202, 89, 659]\n",
      "Slice of sorted array:  [8, 10, 11, 12, 13, 15, 15, 15, 15, 16, 17, 17, 17, 19, 19, 21, 22, 23, 25, 27, 27, 27, 29, 29, 29, 30, 30, 31, 31, 32, 32, 33, 33, 34, 35, 35, 36, 36, 36, 37, 38, 39, 40, 40, 42, 42, 47, 48, 49, 50, 51, 51, 57, 58, 58, 58, 59, 60, 60, 61, 61, 63, 65, 65, 67, 67, 68, 69, 69, 70, 70, 70, 71, 71, 71, 72, 72, 74, 74, 74, 74, 76, 76, 80, 82, 83, 85, 86, 89, 89]\n",
      "--- 0.001723937749862671 seconds ---\n"
     ]
    }
   ],
   "source": [
    "arr_len = 1000\n",
    "avg_time = 0\n",
    "\n",
    "# repeat sorting a random array a thousand times\n",
    "cum_time = 0.0\n",
    "for j in range(1000):\n",
    "    # create random array\n",
    "    random_arr = []\n",
    "    for i in range(arr_len):\n",
    "        random_arr.append(random.randint(1,arr_len))\n",
    "    \n",
    "    if j == 0:\n",
    "        print(\"Slice of unsorted array: \",i, random_arr[10:100])\n",
    "    \n",
    "    start_time = time.time() # time\n",
    "    sorted_arr = BagOfTricks.quick_sort(random_arr) # sort\n",
    "    cum_time += time.time() - start_time # time\n",
    "    \n",
    "avg_time = cum_time/1000\n",
    "    \n",
    "#print(\"Slice of unsorted array: \", random_arr[10:100])\n",
    "print(\"Slice of sorted array: \", sorted_arr[10:100])\n",
    "print(\"--- %s seconds ---\" % (avg_time))"
   ]
  },
  {
   "cell_type": "markdown",
   "metadata": {},
   "source": [
    "## Merge Sort\n",
    "\n",
    "Hmmm. Interesting. Why though?\n",
    "\n",
    "Here instead of splitting over a value, the arrays are just halved.\n",
    "Also computationally faster. Averaging around 0.00416s per step on my laptop."
   ]
  },
  {
   "cell_type": "code",
   "execution_count": 7,
   "metadata": {},
   "outputs": [
    {
     "name": "stdout",
     "output_type": "stream",
     "text": [
      "Slice of unsorted array:  999 [415, 326, 303, 800, 247, 913, 649, 817, 681, 72, 256, 446, 313, 439, 85, 666, 983, 574, 141, 909, 294, 463, 797, 748, 739, 95, 286, 719, 60, 976, 140, 25, 322, 811, 463, 594, 764, 403, 552, 493, 751, 103, 419, 27, 484, 713, 326, 881, 652, 703, 865, 220, 542, 559, 837, 109, 956, 10, 531, 530, 447, 752, 727, 895, 71, 629, 957, 417, 309, 334, 463, 317, 277, 381, 55, 167, 936, 870, 413, 958, 814, 904, 351, 933, 671, 371, 866, 219, 636, 109]\n",
      "Slice of sorted array:  [15, 15, 15, 16, 18, 18, 20, 21, 23, 24, 24, 24, 25, 26, 27, 27, 27, 28, 30, 30, 30, 31, 33, 34, 35, 36, 37, 37, 38, 39, 39, 40, 40, 41, 41, 42, 43, 46, 47, 48, 48, 49, 50, 52, 52, 53, 53, 53, 54, 54, 54, 54, 55, 56, 56, 57, 57, 57, 60, 61, 62, 63, 66, 66, 66, 67, 67, 68, 69, 71, 71, 73, 74, 75, 76, 77, 78, 79, 79, 80, 82, 83, 83, 84, 85, 85, 86, 86, 87, 87]\n",
      "--- 0.00513991641998291 seconds ---\n"
     ]
    }
   ],
   "source": [
    "arr_len = 1000\n",
    "avg_time = 0\n",
    "\n",
    "# repeat sorting a random array a thousand times\n",
    "cum_time = 0.0\n",
    "for j in range(1000):\n",
    "    # create random array\n",
    "    random_arr = []\n",
    "    for i in range(arr_len):\n",
    "        random_arr.append(random.randint(1,arr_len))\n",
    "    \n",
    "    if j == 0:\n",
    "        print(\"Slice of unsorted array: \",i, random_arr[10:100])\n",
    "    \n",
    "    start_time = time.time() # time\n",
    "    sorted_arr = BagOfTricks.merge_sort(random_arr) # sort\n",
    "    cum_time += time.time() - start_time # time\n",
    "    \n",
    "avg_time = cum_time/1000\n",
    "    \n",
    "#print(\"Slice of unsorted array: \", random_arr[10:100])\n",
    "print(\"Slice of sorted array: \", sorted_arr[10:100])\n",
    "print(\"--- %s seconds ---\" % (avg_time))"
   ]
  },
  {
   "cell_type": "code",
   "execution_count": null,
   "metadata": {},
   "outputs": [],
   "source": []
  }
 ],
 "metadata": {
  "kernelspec": {
   "display_name": "Python 3",
   "language": "python",
   "name": "python3"
  },
  "language_info": {
   "codemirror_mode": {
    "name": "ipython",
    "version": 3
   },
   "file_extension": ".py",
   "mimetype": "text/x-python",
   "name": "python",
   "nbconvert_exporter": "python",
   "pygments_lexer": "ipython3",
   "version": "3.6.9"
  }
 },
 "nbformat": 4,
 "nbformat_minor": 4
}
