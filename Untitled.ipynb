{
 "cells": [
  {
   "cell_type": "markdown",
   "metadata": {},
   "source": [
    "# Bag of Tricks\n",
    "This notebook serves to illustrate and explain various interesting CS tricks"
   ]
  },
  {
   "cell_type": "markdown",
   "metadata": {},
   "source": [
    "## The Boring Imports"
   ]
  },
  {
   "cell_type": "code",
   "execution_count": 2,
   "metadata": {},
   "outputs": [],
   "source": [
    "#TODO"
   ]
  },
  {
   "cell_type": "markdown",
   "metadata": {},
   "source": [
    "## Maximum Sum Sub-Array\n",
    "Wow. so original.\n",
    "\n",
    "This problem (or Kadane's Algorithm) seeks to find the largest sum of any contigous sub-array in the given array.\n",
    "\n",
    "See: https://en.wikipedia.org/wiki/Maximum_subarray_problem"
   ]
  },
  {
   "cell_type": "code",
   "execution_count": 5,
   "metadata": {},
   "outputs": [],
   "source": [
    "def kadane_max_subarray(arr: int) -> int:\n",
    "    \"\"\"\n",
    "    Parameters\n",
    "    ----------\n",
    "    arr : str\n",
    "        The array to search through\n",
    "\n",
    "    Returns\n",
    "    -------\n",
    "    best_so_far : int\n",
    "        Largest sum of any sub array\n",
    "    \"\"\"\n",
    "    \n",
    "    best_so_far = 0\n",
    "    current = 0\n",
    "    for i in arr:\n",
    "        current = max(0,current + i)\n",
    "        best_so_far = max(best_so_far,current)\n",
    "        \n",
    "    return best_so_far"
   ]
  },
  {
   "cell_type": "markdown",
   "metadata": {},
   "source": [
    "### Usage\n",
    "We find the largest sum over array `arr=[-2,-4,5,-1,2]`\n",
    "\n",
    "Which is `6=5+(-1)+2`"
   ]
  },
  {
   "cell_type": "code",
   "execution_count": 6,
   "metadata": {},
   "outputs": [
    {
     "name": "stdout",
     "output_type": "stream",
     "text": [
      "6\n"
     ]
    }
   ],
   "source": [
    "arr = [-2,-4,5,-1,2]\n",
    "print(kadane_max_subarray(arr))"
   ]
  },
  {
   "cell_type": "markdown",
   "metadata": {},
   "source": [
    "### From the Class"
   ]
  },
  {
   "cell_type": "code",
   "execution_count": null,
   "metadata": {},
   "outputs": [],
   "source": []
  }
 ],
 "metadata": {
  "kernelspec": {
   "display_name": "Python 3",
   "language": "python",
   "name": "python3"
  },
  "language_info": {
   "codemirror_mode": {
    "name": "ipython",
    "version": 3
   },
   "file_extension": ".py",
   "mimetype": "text/x-python",
   "name": "python",
   "nbconvert_exporter": "python",
   "pygments_lexer": "ipython3",
   "version": "3.6.9"
  }
 },
 "nbformat": 4,
 "nbformat_minor": 4
}
