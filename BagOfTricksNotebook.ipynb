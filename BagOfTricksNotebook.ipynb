{
 "cells": [
  {
   "cell_type": "markdown",
   "metadata": {},
   "source": [
    "# Bag of Tricks\n",
    "This notebook serves to illustrate and explain various interesting CS tricks"
   ]
  },
  {
   "cell_type": "markdown",
   "metadata": {},
   "source": [
    "### Preamble"
   ]
  },
  {
   "cell_type": "code",
   "execution_count": 6,
   "metadata": {},
   "outputs": [],
   "source": [
    "from bag_of_tricks import BagOfTricks\n",
    "import random\n",
    "import time"
   ]
  },
  {
   "cell_type": "markdown",
   "metadata": {},
   "source": [
    "## Maximum Sum Sub-Array\n",
    "Wow. so original.\n",
    "\n",
    "This problem (or Kadane's Algorithm) seeks to find the largest sum of any contigous sub-array in the given array.\n",
    "\n",
    "See: https://en.wikipedia.org/wiki/Maximum_subarray_problem"
   ]
  },
  {
   "cell_type": "code",
   "execution_count": 11,
   "metadata": {},
   "outputs": [],
   "source": [
    "BagOfTricks.kadane_max_subarray??"
   ]
  },
  {
   "cell_type": "markdown",
   "metadata": {},
   "source": [
    "### Usage\n",
    "We find the largest sum over array `arr=[-2,-4,5,-1,2]`\n",
    "\n",
    "Which is `6=5+(-1)+2`"
   ]
  },
  {
   "cell_type": "code",
   "execution_count": 12,
   "metadata": {},
   "outputs": [
    {
     "name": "stdout",
     "output_type": "stream",
     "text": [
      "6\n"
     ]
    }
   ],
   "source": [
    "arr = [-2,-4,5,-1,2]\n",
    "print(BagOfTricks.kadane_max_subarray(arr))"
   ]
  },
  {
   "cell_type": "markdown",
   "metadata": {},
   "source": [
    "## Bubble Sort\n",
    "This make take some time to run over the iterations, my pc took about 0.1483s per sort, so about two and a half minutes in total.\n",
    "\n",
    "Now imagine how slow this sort is over 1,000,000 items"
   ]
  },
  {
   "cell_type": "code",
   "execution_count": 13,
   "metadata": {},
   "outputs": [
    {
     "name": "stdout",
     "output_type": "stream",
     "text": [
      "Slice of unsorted array:  [14, 17, 17, 17, 18, 19, 20, 20, 21, 21, 22, 23, 23, 24, 24, 24, 26, 28, 31, 32, 36, 37, 37, 37, 38, 39, 40, 42, 44, 45, 46, 47, 47, 49, 49, 50, 51, 51, 52, 52]\n",
      "Slice of sorted array:  [14, 17, 17, 17, 18, 19, 20, 20, 21, 21, 22, 23, 23, 24, 24, 24, 26, 28, 31, 32, 36, 37, 37, 37, 38, 39, 40, 42, 44, 45, 46, 47, 47, 49, 49, 50, 51, 51, 52, 52]\n",
      "--- 0.14834311103820802 seconds ---\n"
     ]
    }
   ],
   "source": [
    "arr_len = 1000\n",
    "avg_time = 0\n",
    "\n",
    "# repeat sorting a random array a thousand times\n",
    "cum_time = 0.0\n",
    "for j in range(1000):\n",
    "    # create random array\n",
    "    random_arr = []\n",
    "    for i in range(arr_len):\n",
    "        random_arr.append(random.randint(1,arr_len))\n",
    "        \n",
    "    start_time = time.time() # time\n",
    "    sorted_arr = BagOfTricks.bubble_sort(random_arr) # sort\n",
    "    cum_time += time.time() - start_time # time\n",
    "    \n",
    "avg_time = cum_time/1000\n",
    "    \n",
    "print(\"Slice of unsorted array: \", random_arr[10:50])\n",
    "print(\"Slice of sorted array: \", sorted_arr[10:50])\n",
    "print(\"--- %s seconds ---\" % (avg_time))"
   ]
  },
  {
   "cell_type": "markdown",
   "metadata": {},
   "source": [
    "## Quick Sort\n",
    "\n",
    "This one is slighty more interesting.\n",
    "\n",
    "An interesting video by Computerphile explains the logic very well: https://youtu.be/XE4VP_8Y0BU.\n",
    "\n",
    "Basically the array is split over a value and then restacked in an ordered manner.\n",
    "\n",
    "This is much much faster, an average of 0.0021s per sort on my pc, totalling around 2.1s"
   ]
  },
  {
   "cell_type": "code",
   "execution_count": 15,
   "metadata": {},
   "outputs": [
    {
     "name": "stdout",
     "output_type": "stream",
     "text": [
      "Slice of unsorted array:  [686, 948, 756, 535, 508, 452, 443, 463, 86, 862, 635, 234, 677, 469, 278, 530, 855, 254, 565, 830, 492, 178, 350, 838, 548, 157, 765, 679, 367, 536, 921, 976, 511, 646, 936, 974, 242, 904, 329, 411]\n",
      "Slice of sorted array:  [12, 13, 14, 16, 16, 19, 19, 20, 21, 21, 22, 22, 25, 27, 29, 30, 31, 32, 33, 33, 33, 34, 34, 38, 38, 40, 40, 40, 42, 42, 43, 46, 46, 48, 48, 50, 52, 52, 52, 53]\n",
      "--- 0.0020608434677124024 seconds ---\n"
     ]
    }
   ],
   "source": [
    "arr_len = 1000\n",
    "avg_time = 0\n",
    "\n",
    "# repeat sorting a random array a thousand times\n",
    "cum_time = 0.0\n",
    "for j in range(1000):\n",
    "    # create random array\n",
    "    random_arr = []\n",
    "    for i in range(arr_len):\n",
    "        random_arr.append(random.randint(1,arr_len))\n",
    "    \n",
    "    if j == 0:\n",
    "        print(\"Slice of unsorted array: \", random_arr[10:50])\n",
    "    \n",
    "    start_time = time.time() # time\n",
    "    sorted_arr = BagOfTricks.quick_sort(random_arr) # sort\n",
    "    cum_time += time.time() - start_time # time\n",
    "    \n",
    "avg_time = cum_time/1000\n",
    "\n",
    "print(\"Slice of sorted array: \", sorted_arr[10:50])\n",
    "print(\"--- %s seconds ---\" % (avg_time))"
   ]
  },
  {
   "cell_type": "markdown",
   "metadata": {},
   "source": [
    "## Merge Sort\n",
    "\n",
    "Here instead of splitting over a value, the arrays are halved.\n",
    "Computationally faster in the worst case. Averaging around 0.0037s per step on my pc, total of 3.7s."
   ]
  },
  {
   "cell_type": "code",
   "execution_count": 17,
   "metadata": {},
   "outputs": [
    {
     "name": "stdout",
     "output_type": "stream",
     "text": [
      "Slice of unsorted array:  [290, 933, 244, 430, 17, 324, 198, 688, 220, 238, 135, 515, 602, 181, 69, 440, 496, 37, 37, 287, 928, 549, 161, 462, 449, 44, 943, 103, 389, 400, 85, 327, 793, 541, 615, 396, 669, 554, 143, 939]\n",
      "Slice of sorted array:  [11, 12, 13, 14, 15, 15, 16, 18, 20, 20, 21, 23, 24, 24, 25, 28, 29, 29, 30, 30, 31, 31, 35, 35, 35, 35, 37, 38, 38, 39, 39, 40, 41, 41, 41, 41, 42, 42, 43, 43]\n",
      "--- 0.003752455234527588 seconds ---\n"
     ]
    }
   ],
   "source": [
    "arr_len = 1000\n",
    "avg_time = 0\n",
    "\n",
    "# repeat sorting a random array a thousand times\n",
    "cum_time = 0.0\n",
    "for j in range(1000):\n",
    "    # create random array\n",
    "    random_arr = []\n",
    "    for i in range(arr_len):\n",
    "        random_arr.append(random.randint(1,arr_len))\n",
    "    \n",
    "    if j == 0:\n",
    "        print(\"Slice of unsorted array: \", random_arr[10:50])\n",
    "    \n",
    "    start_time = time.time() # time\n",
    "    sorted_arr = BagOfTricks.merge_sort(random_arr) # sort\n",
    "    cum_time += time.time() - start_time # time\n",
    "    \n",
    "avg_time = cum_time/1000\n",
    "\n",
    "print(\"Slice of sorted array: \", sorted_arr[10:50])\n",
    "print(\"--- %s seconds ---\" % (avg_time))"
   ]
  }
 ],
 "metadata": {
  "kernelspec": {
   "display_name": "Python 3",
   "language": "python",
   "name": "python3"
  },
  "language_info": {
   "codemirror_mode": {
    "name": "ipython",
    "version": 3
   },
   "file_extension": ".py",
   "mimetype": "text/x-python",
   "name": "python",
   "nbconvert_exporter": "python",
   "pygments_lexer": "ipython3",
   "version": "3.8.2"
  }
 },
 "nbformat": 4,
 "nbformat_minor": 4
}
